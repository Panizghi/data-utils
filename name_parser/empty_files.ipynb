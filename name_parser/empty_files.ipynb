import csv
import boto3
from botocore.exceptions import ClientError

s3 = boto3.resource('s3')
count = 0
x = 0
y = 0
bucket = 'BUCKET_NAME'
dpath = 'ENV'

# Open the input CSV file
while count != 2040:
    try:
        data_obj = s3.Object(bucket, f"{dpath}/VIDEO_{count}_SD_Air/segments_w_summary.csv")
        file_obj = data_obj.get()['Body'].read().decode('utf-8').splitlines()
        
        reader = csv.DictReader(file_obj)
        
        # Initialize counters
        summary_word_count_greater = 0
        word_count_within_range = 0
        total_rows = 0
        short_count = 0 
        empty_summary_count = 0
        
        # Loop through each row in the input CSV file
        for row in reader:
            # Count the number of words in the transcription and summary
            transcription_word_count = len(row['transcription'].split())
            summary_word_count = len(row['summary'].split())
            
            # If the summary word count is greater than the transcription word count, increment the counter
            if summary_word_count > transcription_word_count:
                summary_word_count_greater += 1
            
            # If the summary is empty, increment the counter
            if summary_word_count == 0 and transcription_word_count != 0 :
                empty_summary_count += 1
            
            # Calculate the duration of the segment in seconds
            start_time = float(row['start_time'])
            stop_time = float(row['stop_time'])
            duration = stop_time - start_time
            
            # Calculate the expected number of words based on the duration
            expected_word_count = (duration* 120)/60 # Assume a range of 100-140 words per minute
            
            # If the actual word count is within the expected range, increment the counter
            if(expected_word_count - 20 > 0 ):
                if expected_word_count - 20 <= transcription_word_count <= expected_word_count + 20:
                    word_count_within_range += 1
            else:
                if 3 <= transcription_word_count <= expected_word_count + 20:
                    word_count_within_range += 1
                if expected_word_count <= transcription_word_count:
                    word_count_within_range += 1
                    
            total_rows += 1
        
        # Calculate the number of rows that are outside the expected word count range
        out_of_range = total_rows - word_count_within_range
        if total_rows >0 :
        # Calculate the ratio of empty summary rows to total rows
            empty_summary_ratio = empty_summary_count / total_rows
            
            # Calculate the ratio of rows that meet the criteria
            ratio = (summary_word_count_greater + out_of_range) / total_rows
        
        # If the ratio is greater than 60% or the empty summary ratio is greater than 10%, mark the folder as faulty
        if ratio > 0.6 and empty_summary_ratio > 0.5 or total_rows==0:
            #print("faulty")
            #print(f"Ratio of empty summary rows to total rows: {empty_summary_ratio}")
            #print(f"Ratio of rows outside the expected word count range or with summary greater than transcription: {ratio}")
            print(f"{count}")
            x += 1
    except ClientError as e:
        if e.response['Error']['Code'] == "404":
            y = 0
    count += 1

print(f"Number of faulty folders: {x}")
